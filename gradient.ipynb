{
 "cells": [
  {
   "cell_type": "markdown",
   "metadata": {},
   "source": [
    "https://stackoverflow.com/questions/54754153/autograd-grad-for-tensor-in-pytorch"
   ]
  },
  {
   "cell_type": "code",
   "execution_count": 8,
   "metadata": {},
   "outputs": [],
   "source": [
    "import torch\n",
    "from torch.autograd import grad\n",
    "import torch.nn as nn"
   ]
  },
  {
   "cell_type": "code",
   "execution_count": 9,
   "metadata": {},
   "outputs": [
    {
     "data": {
      "text/plain": [
       "(tensor([[1., 1.],\n",
       "         [1., 1.]], requires_grad=True),\n",
       " tensor([[15.5000, 15.5000],\n",
       "         [15.5000, 15.5000]], grad_fn=<SubBackward0>))"
      ]
     },
     "execution_count": 9,
     "metadata": {},
     "output_type": "execute_result"
    }
   ],
   "source": [
    "# Create some dummy data.\n",
    "x = torch.ones(2, 2, requires_grad=True)\n",
    "gt = torch.ones_like(x, requires_grad=True) * 16 - 0.5 # ground-truths\n",
    "\n",
    "x, gt"
   ]
  },
  {
   "cell_type": "code",
   "execution_count": 10,
   "metadata": {},
   "outputs": [],
   "source": [
    "# We will use MSELoss as an examples.\n",
    "loss_fn = nn.MSELoss()"
   ]
  },
  {
   "cell_type": "code",
   "execution_count": 11,
   "metadata": {},
   "outputs": [],
   "source": [
    "# Do some computations.\n",
    "v = x + 2\n",
    "y = v ** 2\n",
    "\n",
    "v.retain_grad()\n",
    "y.retain_grad()"
   ]
  },
  {
   "cell_type": "code",
   "execution_count": 12,
   "metadata": {},
   "outputs": [
    {
     "name": "stdout",
     "output_type": "stream",
     "text": [
      "Loss: 42.25\n"
     ]
    }
   ],
   "source": [
    "# Compute loss\n",
    "loss = loss_fn(y, gt)\n",
    "\n",
    "print(f\"Loss: {loss}\")"
   ]
  },
  {
   "cell_type": "code",
   "execution_count": 6,
   "metadata": {},
   "outputs": [
    {
     "name": "stdout",
     "output_type": "stream",
     "text": [
      "dloss/dx:\n",
      " (tensor([[-19.5000, -19.5000],\n",
      "        [-19.5000, -19.5000]]),)\n"
     ]
    }
   ],
   "source": [
    "# Now compute gradients:\n",
    "d_loss_dx = grad(outputs=loss, inputs=x)\n",
    "print(f\"dloss/dx:\\n {d_loss_dx}\")"
   ]
  },
  {
   "cell_type": "code",
   "execution_count": 13,
   "metadata": {},
   "outputs": [
    {
     "name": "stdout",
     "output_type": "stream",
     "text": [
      "dloss/dy:\n",
      " (tensor([[-3.2500, -3.2500],\n",
      "        [-3.2500, -3.2500]]),)\n"
     ]
    }
   ],
   "source": [
    "# Now compute gradients:\n",
    "d_loss_dy = grad(outputs=loss, inputs=y)\n",
    "print(f\"dloss/dy:\\n {d_loss_dy}\")"
   ]
  },
  {
   "cell_type": "code",
   "execution_count": 35,
   "metadata": {},
   "outputs": [
    {
     "data": {
      "text/plain": [
       "tensor([[-3.2500, -3.2500],\n",
       "        [-3.2500, -3.2500]])"
      ]
     },
     "execution_count": 35,
     "metadata": {},
     "output_type": "execute_result"
    }
   ],
   "source": [
    "y.grad"
   ]
  },
  {
   "cell_type": "code",
   "execution_count": 34,
   "metadata": {},
   "outputs": [
    {
     "data": {
      "text/plain": [
       "tensor([[6., 6.],\n",
       "        [6., 6.]])"
      ]
     },
     "execution_count": 34,
     "metadata": {},
     "output_type": "execute_result"
    }
   ],
   "source": [
    "d_loss_dx[0] / y.grad"
   ]
  },
  {
   "cell_type": "markdown",
   "metadata": {},
   "source": [
    "$$\\cfrac{dl}{dy}\\cfrac{dy}{dx}=-19.5$$\n",
    "$$\\cfrac{dl}{dy}=-3.25$$\n",
    "$$\\cfrac{dy}{dx}=6$$"
   ]
  },
  {
   "cell_type": "code",
   "execution_count": 14,
   "metadata": {},
   "outputs": [
    {
     "name": "stdout",
     "output_type": "stream",
     "text": [
      "grad can be implicitly created only for scalar outputs\n"
     ]
    }
   ],
   "source": [
    "v = x + 2\n",
    "y = v ** 2\n",
    "\n",
    "try:\n",
    "    dy_hat_dx = grad(outputs=y, inputs=x)\n",
    "except RuntimeError as err:\n",
    "    print(err)"
   ]
  },
  {
   "cell_type": "code",
   "execution_count": 20,
   "metadata": {},
   "outputs": [
    {
     "name": "stdout",
     "output_type": "stream",
     "text": [
      "dy/dx:\n",
      " (tensor([[6., 6.],\n",
      "        [6., 6.]]),)\n",
      "dv/dx:\n",
      " (tensor([[1., 1.],\n",
      "        [1., 1.]]),)\n"
     ]
    }
   ],
   "source": [
    "v = x + 2\n",
    "y = v ** 2\n",
    "\n",
    "dy_dx = grad(outputs=y, inputs=x, grad_outputs=torch.ones_like(y))\n",
    "print(f'dy/dx:\\n {dy_dx}')\n",
    "\n",
    "dv_dx = grad(outputs=v, inputs=x, grad_outputs=torch.ones_like(v))\n",
    "print(f'dv/dx:\\n {dv_dx}')"
   ]
  }
 ],
 "metadata": {
  "kernelspec": {
   "display_name": "basic",
   "language": "python",
   "name": "basic"
  },
  "language_info": {
   "codemirror_mode": {
    "name": "ipython",
    "version": 3
   },
   "file_extension": ".py",
   "mimetype": "text/x-python",
   "name": "python",
   "nbconvert_exporter": "python",
   "pygments_lexer": "ipython3",
   "version": "3.6.9"
  }
 },
 "nbformat": 4,
 "nbformat_minor": 4
}
